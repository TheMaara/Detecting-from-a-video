{
 "cells": [
  {
   "cell_type": "markdown",
   "id": "426d83b4",
   "metadata": {},
   "source": [
    "# Imports"
   ]
  },
  {
   "cell_type": "code",
   "execution_count": null,
   "id": "1c12941c",
   "metadata": {},
   "outputs": [],
   "source": [
    "import numpy as np\n",
    "import os,sys\n",
    "import six.moves.urllib as urllib\n",
    "import sys\n",
    "import tarfile\n",
    "import zipfile\n",
    "import imageio\n",
    "imageio.plugins.ffmpeg.download()\n",
    "\n",
    "from datetime import datetime\n",
    "from collections import defaultdict\n",
    "from io import StringIO\n",
    "from matplotlib import pyplot as plt\n",
    "from PIL import Image"
   ]
  },
  {
   "cell_type": "code",
   "execution_count": null,
   "id": "9fd4095b",
   "metadata": {},
   "outputs": [],
   "source": [
    "RESEARCH_PATH= '../../tf-models/researvh'\n",
    "MODELS_PATH='../../tf-models/research/object_detection'\n",
    "sys.path.append(RESEARCH_PATH)\n",
    "sys.path.append(MODELS_PATH)"
   ]
  },
  {
   "cell_type": "markdown",
   "id": "b63b2f8a",
   "metadata": {},
   "source": [
    "## Env setup"
   ]
  },
  {
   "cell_type": "code",
   "execution_count": null,
   "id": "3bf76a37",
   "metadata": {},
   "outputs": [],
   "source": [
    "%matplotlib inline"
   ]
  },
  {
   "cell_type": "markdown",
   "id": "6a1fdbed",
   "metadata": {},
   "source": [
    "## Object detection imports"
   ]
  },
  {
   "cell_type": "code",
   "execution_count": null,
   "id": "8a76e1a8",
   "metadata": {},
   "outputs": [],
   "source": [
    "from utils import label_map_util\n",
    "from utils import visualization_utils as vis_util"
   ]
  },
  {
   "cell_type": "markdown",
   "id": "1ae43659",
   "metadata": {},
   "source": [
    "## Model preparation"
   ]
  },
  {
   "cell_type": "code",
   "execution_count": null,
   "id": "00216bc2",
   "metadata": {},
   "outputs": [],
   "source": [
    "MODEL_NAME = 'ssd_mobilenet_v1_coco_2017_11_17'\n",
    "MODEL_FILE = MODEL_NAME + '.tar.gz'\n",
    "DOWNLOAD_BASE = 'http://download.tensorflow.org/models/object_detection/'\n",
    "\n",
    "PATH_TO_CKPT = MODEL_NAME +'/frozen_inference_graph.pb'\n",
    "\n",
    "PATH_TO_LABELS = os.path.join('data','mscoco_label_map.pbtxt')\n",
    "\n",
    "NUM_CLASSES = 90"
   ]
  },
  {
   "cell_type": "markdown",
   "id": "dd97a5c7",
   "metadata": {},
   "source": [
    "## Download Model"
   ]
  },
  {
   "cell_type": "code",
   "execution_count": null,
   "id": "476a157e",
   "metadata": {},
   "outputs": [],
   "source": [
    "opener = urllib.request.URLopener()\n",
    "opener.retreive(DOWNLOAD_BASE + MODEL_FILE, MODEL_FILE)\n",
    "tar_file = tarfile.open(MODEL_FILE)\n",
    "for file in tar_file.getmembers():\n",
    "    file_name = os.path.basename(file.name)\n",
    "    if 'frozen_inference_graph.pb' in file_name:\n",
    "        tar_file.extract(file, os.getcwd())\n"
   ]
  },
  {
   "cell_type": "markdown",
   "id": "c8eae55b",
   "metadata": {},
   "source": [
    "## Load a frozen Tensorflow model into memory."
   ]
  },
  {
   "cell_type": "code",
   "execution_count": null,
   "id": "5d2baee6",
   "metadata": {},
   "outputs": [],
   "source": [
    "detection_graph = tf.Graph()\n",
    "with detection_graph.as_default():\n",
    "    od_graph_def = tf.GraphDef()\n",
    "    with tf.gfile.GFile(PATH_TO_CKPT, 'rb') as fid:\n",
    "        serialized_graph = fid.read()\n",
    "        od_graph_def.ParseFromString(serialized_graph)\n",
    "        tf.import_graph_def(od_graph_def, name='')"
   ]
  },
  {
   "cell_type": "markdown",
   "id": "c183e7bd",
   "metadata": {},
   "source": [
    "## Loading label map"
   ]
  },
  {
   "cell_type": "code",
   "execution_count": null,
   "id": "af7d8536",
   "metadata": {},
   "outputs": [],
   "source": [
    "label_map = label_map_util.load_labelmap(PATH_TO_LABELS)\n",
    "categories = label_map_util.convert_label_map_to_categories(label_map, max_num_classes=NUM_CLASSES, use_display_name=True)\n",
    "category_index = label_map_util.create_category_index(categories)"
   ]
  },
  {
   "cell_type": "markdown",
   "id": "2bd83a8c",
   "metadata": {},
   "source": [
    "## Helper code"
   ]
  },
  {
   "cell_type": "code",
   "execution_count": null,
   "id": "83bbd8c1",
   "metadata": {},
   "outputs": [],
   "source": [
    "def load_image_into_numpy_array(image):\n",
    "    (im_width, im_height) = image.size\n",
    "    return np.array(image.getdata()).reshape((im_height, im_width, 3)).astype(np.uint8)"
   ]
  },
  {
   "cell_type": "markdown",
   "id": "8059cf6b",
   "metadata": {},
   "source": [
    "## Detection"
   ]
  },
  {
   "cell_type": "code",
   "execution_count": null,
   "id": "524e1c30",
   "metadata": {},
   "outputs": [],
   "source": [
    "PATH_TO_TEST_IMAGES_DIR = 'test_images'\n",
    "TEST_IMAGE_PATHS = [os.path.join(PATH_TO_TEST_IMAGES_DIR,'beach{}.jpg'.format(i)) for i in range(1, 3)]\n",
    "IMAGE_SIZE = (12,8)"
   ]
  },
  {
   "cell_type": "code",
   "execution_count": null,
   "id": "9509bea4",
   "metadata": {},
   "outputs": [],
   "source": [
    "with detection_graph.as_default():\n",
    "    with tf.Session(graph=detection_graph) as sess:\n",
    "        image_tensor=detection_graph.get_tensor_by_name('image_tensor:0')\n",
    "        detection_boxes=detection_graph.get_tensor_by_name('detection_boxes:0')\n",
    "        detection_scores=detection_graph.get_tensor_by_name('detection_scores:0')\n",
    "        detection_classes=detection_graph.get_tensor_by_name('detection_classes:0')\n",
    "        num_detections=detection_graph.get_tensor_by_name('num_detections:0')\n",
    "        \n",
    "        input_video = 'traffic'\n",
    "        video_reader=imageio.get_reader('%s.mp4'%input_video)\n",
    "        video_writer=imageio.get_writer('%s_annotated.mp4'%input_video,fps =10)\n",
    "        #loop through each frame\n",
    "        t0 = datetime.now()\n",
    "        n_frames = 0\n",
    "        for frame in video_reader:\n",
    "            image_np=frame\n",
    "            n_frames+=1\n",
    "            \n",
    "            #expanddim since code expects images to have shape[1,None]\n",
    "            image_np_expanded=np.expand_dims(image_np,axis=0)\n",
    "            #Actual detection\n",
    "            (boxes,scores,classes,num)=sess.run([detection_boxes,detection_scores,detection_classes,num_detections,feed_d])\n",
    "            #visualisation\n",
    "            vis_util.visualize_boxes_and_labels_on_image_array(image_np,no.squeeze(boxes),np.squeeze(classes).astype(np.int))\n",
    "            #video_writer\n",
    "            video_writer.append_data(image_np)\n",
    "        \n",
    "        fps = n_frames/datetime.now()-t0)total_seconds()\n",
    "        print(\"Frames processed: %s,Speeed:%s fps\"%(n_frames,fps))\n",
    "        #cleanup\n",
    "        video_writer.close()"
   ]
  }
 ],
 "metadata": {
  "kernelspec": {
   "display_name": "IBMAI",
   "language": "python",
   "name": "ibmai"
  },
  "language_info": {
   "codemirror_mode": {
    "name": "ipython",
    "version": 3
   },
   "file_extension": ".py",
   "mimetype": "text/x-python",
   "name": "python",
   "nbconvert_exporter": "python",
   "pygments_lexer": "ipython3",
   "version": "3.8.5"
  }
 },
 "nbformat": 4,
 "nbformat_minor": 5
}
